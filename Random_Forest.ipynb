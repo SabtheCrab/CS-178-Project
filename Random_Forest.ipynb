{
 "cells": [
  {
   "cell_type": "code",
   "execution_count": 3,
   "metadata": {},
   "outputs": [],
   "source": [
    "# Import all required libraries\n",
    "from __future__ import division \n",
    "\n",
    "import numpy as np\n",
    "import matplotlib.pyplot as plt\n",
    "import mltools as ml\n",
    "\n",
    "np.random.seed(0)\n",
    "%matplotlib inline"
   ]
  },
  {
   "cell_type": "code",
   "execution_count": 6,
   "metadata": {},
   "outputs": [],
   "source": [
    "#import the X and Y training data\n",
    "X = np.genfromtxt('C:\\data\\X_train.txt', delimiter=None)\n",
    "Y = np.genfromtxt('C:\\data\\Y_train.txt', delimiter=None)\n",
    "X,Y = ml.shuffleData(X,Y)"
   ]
  },
  {
   "cell_type": "code",
   "execution_count": 7,
   "metadata": {},
   "outputs": [],
   "source": [
    "[Xtr,Xva,Ytr,Yva] = ml.splitData(X,Y)\n",
    "Xte = np.genfromtxt('C:\\data\\X_test.txt', delimiter=None)"
   ]
  },
  {
   "cell_type": "code",
   "execution_count": 8,
   "metadata": {},
   "outputs": [],
   "source": [
    "class BaggedTree(ml.base.classifier):\n",
    "    def __init__(self, learners):\n",
    "        \"\"\"Constructs a BaggedTree class with a set of learners. \"\"\"\n",
    "        self.learners = learners\n",
    "    \n",
    "    def predictSoft(self, X):\n",
    "        \"\"\"Predicts the probabilities with each bagged learner and average over the results. \"\"\"\n",
    "        n_bags = len(self.learners)\n",
    "        preds = [self.learners[l].predictSoft(X) for l in range(n_bags)]\n",
    "        return np.mean(preds, axis=0)\n",
    "    "
   ]
  },
  {
   "cell_type": "code",
   "execution_count": 10,
   "metadata": {},
   "outputs": [],
   "source": [
    "n_bags = 10\n",
    "bags = []   # self.learners\n",
    "for l in range(n_bags):\n",
    "    # Each boosted data is the size of the original data. \n",
    "    Xi, Yi = ml.bootstrapData(Xtr, Ytr, Xtr.shape[0])\n",
    "\n",
    "    # Train the model on that draw\n",
    "    tree = ml.dtree.treeClassify(Xi, Yi, minParent=2**6,maxDepth=100, nFeatures=6)\n",
    "\n",
    "    bags.append(tree)"
   ]
  },
  {
   "cell_type": "code",
   "execution_count": 11,
   "metadata": {},
   "outputs": [
    {
     "name": "stdout",
     "output_type": "stream",
     "text": [
      "      Train AUC: 0.8988\n",
      " Validation AUC: 0.7360\n"
     ]
    }
   ],
   "source": [
    "bt = BaggedTree(bags)\n",
    "bt.classes = np.unique(Y)\n",
    "\n",
    "print(\"{0:>15}: {1:.4f}\".format('Train AUC', bt.auc(Xtr, Ytr)))\n",
    "print(\"{0:>15}: {1:.4f}\".format('Validation AUC', bt.auc(Xva, Yva)))"
   ]
  },
  {
   "cell_type": "code",
   "execution_count": null,
   "metadata": {},
   "outputs": [],
   "source": [
    "train_auc = []\n",
    "validation_auc = []\n",
    "train_err = []\n",
    "validation_err = []\n",
    "features = [1,2,3,4,5,6,7,8,9,10,11,12,13,14]\n",
    "\n",
    "for i in features:\n",
    "    print i\n",
    "    n_bags = 25\n",
    "    bags = []   # self.learners\n",
    "    for l in range(n_bags):\n",
    "        # Each boosted data is the size of the original data. \n",
    "        Xi, Yi = ml.bootstrapData(Xtr, Ytr, Xtr.shape[0])\n",
    "\n",
    "        # Train the model on that draw\n",
    "        tree = ml.dtree.treeClassify(Xi, Yi, minParent=2**6,maxDepth=100, nFeatures=i)\n",
    "        bags.append(tree)\n",
    "        \n",
    "    bt = BaggedTree(bags)\n",
    "    bt.classes = np.unique(Y)\n",
    "    train_auc.append(bt.auc(Xtr, Ytr))\n",
    "    validation_auc.append(bt.auc(Xva, Yva))\n",
    "    train_err.append(bt.err(Xtr,Ytr))\n",
    "    validation_err.append(bt.err(Xva,Yva))\n",
    "\n",
    "f, ax = plt.subplots(1, 1, figsize=(8, 5))\n",
    "\n",
    "ax.plot(features, train_auc, 'r-' ,lw=4, alpha=0.75, label='Train')\n",
    "ax.plot(features, validation_auc, 'g-' ,lw=4, alpha=0.75, label='Validation')\n",
    "ax.set_xlabel(\"number of features\")\n",
    "ax.set_ylabel(\"AUC\")\n",
    "ax.legend(fontsize=30, loc=4)\n",
    "\n",
    "f, ax = plt.subplots(1, 1, figsize=(8, 5))\n",
    "\n",
    "ax.plot(features, train_err, 'r-' ,lw=4, alpha=0.75, label='Train')\n",
    "ax.plot(features, validation_err, 'g-' ,lw=4, alpha=0.75, label='Validation')\n",
    "ax.set_xlabel(\"number of features\")\n",
    "ax.set_ylabel(\"Error\")\n",
    "ax.legend(fontsize=30, loc=4)\n",
    "\n",
    "plt.show()"
   ]
  },
  {
   "cell_type": "code",
   "execution_count": null,
   "metadata": {},
   "outputs": [],
   "source": [
    "train_auc = []\n",
    "validation_auc = []\n",
    "train_err = []\n",
    "validation_err = []\n",
    "\n",
    "for i in range(1, 50):\n",
    "    print(i)\n",
    "    n_bags = i\n",
    "    bags = []   # self.learners\n",
    "    for l in range(n_bags):\n",
    "        # Each boosted data is the size of the original data. \n",
    "        Xi, Yi = ml.bootstrapData(Xtr, Ytr, Xtr.shape[0])\n",
    "\n",
    "        # Train the model on that draw\n",
    "        tree = ml.dtree.treeClassify(Xi, Yi, minParent=2**6,maxDepth=100, nFeatures=4)\n",
    "        bags.append(tree)\n",
    "        \n",
    "    bt = BaggedTree(bags)\n",
    "    bt.classes = np.unique(Y)\n",
    "    train_auc.append(bt.auc(Xtr, Ytr))\n",
    "    validation_auc.append(bt.auc(Xva, Yva))\n",
    "    train_err.append(bt.err(Xtr,Ytr))\n",
    "    validation_err.append(bt.err(Xva,Yva))\n",
    "\n",
    "f, ax = plt.subplots(1, 1, figsize=(8, 5))\n",
    "\n",
    "ax.plot(temp, train_auc, 'r-' ,lw=4, alpha=0.75, label='Train')\n",
    "ax.plot(temp, validation_auc, 'g-' ,lw=4, alpha=0.75, label='Validation')\n",
    "ax.set_xlabel(\"number of features\")\n",
    "ax.set_ylabel(\"AUC\")\n",
    "ax.legend(fontsize=30, loc=4)\n",
    "\n",
    "f, ax = plt.subplots(1, 1, figsize=(8, 5))\n",
    "\n",
    "ax.plot(temp, train_err, 'r-' ,lw=4, alpha=0.75, label='Train')\n",
    "ax.plot(temp, validation_err, 'g-' ,lw=4, alpha=0.75, label='Validation')\n",
    "ax.set_xlabel(\"number of features\")\n",
    "ax.set_ylabel(\"Error\")\n",
    "ax.legend(fontsize=30, loc=4)\n",
    "\n",
    "plt.show()\n"
   ]
  },
  {
   "cell_type": "code",
   "execution_count": 12,
   "metadata": {},
   "outputs": [],
   "source": [
    "\n",
    "Xte = np.genfromtxt('C:\\data\\X_test.txt', delimiter=None)\n",
    "Yte = np.vstack((np.arange(Xte.shape[0]), bt.predictSoft(Xte)[:,1])).T\n",
    "# Output a file with two columns, a row ID and a confidence in class 1:\n",
    "np.savetxt('C:\\data\\Y_submit.txt',Yte,'%d, %.2f',header='ID,Prob1',comments='',delimiter=',')"
   ]
  },
  {
   "cell_type": "code",
   "execution_count": null,
   "metadata": {},
   "outputs": [],
   "source": []
  }
 ],
 "metadata": {
  "kernelspec": {
   "display_name": "Python 2",
   "language": "python",
   "name": "python2"
  },
  "language_info": {
   "codemirror_mode": {
    "name": "ipython",
    "version": 2
   },
   "file_extension": ".py",
   "mimetype": "text/x-python",
   "name": "python",
   "nbconvert_exporter": "python",
   "pygments_lexer": "ipython2",
   "version": "2.7.15"
  }
 },
 "nbformat": 4,
 "nbformat_minor": 2
}
