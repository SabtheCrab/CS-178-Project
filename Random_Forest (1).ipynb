{
 "cells": [
  {
   "cell_type": "code",
   "execution_count": 3,
   "metadata": {},
   "outputs": [],
   "source": [
    "# Import all required libraries\n",
    "from __future__ import division \n",
    "\n",
    "import numpy as np\n",
    "import matplotlib.pyplot as plt\n",
    "import mltools as ml\n",
    "\n",
    "np.random.seed(0)\n",
    "%matplotlib inline"
   ]
  },
  {
   "cell_type": "code",
   "execution_count": 6,
   "metadata": {},
   "outputs": [],
   "source": [
    "#import the X and Y training data\n",
    "X = np.genfromtxt('C:\\data\\X_train.txt', delimiter=None)\n",
    "Y = np.genfromtxt('C:\\data\\Y_train.txt', delimiter=None)\n",
    "X,Y = ml.shuffleData(X,Y)"
   ]
  },
  {
   "cell_type": "code",
   "execution_count": 7,
   "metadata": {},
   "outputs": [],
   "source": [
    "[Xtr,Xva,Ytr,Yva] = ml.splitData(X,Y)\n",
    "Xte = np.genfromtxt('C:\\data\\X_test.txt', delimiter=None)"
   ]
  },
  {
   "cell_type": "code",
   "execution_count": 8,
   "metadata": {},
   "outputs": [],
   "source": [
    "class BaggedTree(ml.base.classifier):\n",
    "    def __init__(self, learners):\n",
    "        \"\"\"Constructs a BaggedTree class with a set of learners. \"\"\"\n",
    "        self.learners = learners\n",
    "    \n",
    "    def predictSoft(self, X):\n",
    "        \"\"\"Predicts the probabilities with each bagged learner and average over the results. \"\"\"\n",
    "        n_bags = len(self.learners)\n",
    "        preds = [self.learners[l].predictSoft(X) for l in range(n_bags)]\n",
    "        return np.mean(preds, axis=0)\n",
    "    "
   ]
  },
  {
   "cell_type": "code",
   "execution_count": 10,
   "metadata": {},
   "outputs": [],
   "source": [
    "n_bags = 10\n",
    "bags = []   # self.learners\n",
    "for l in range(n_bags):\n",
    "    # Each boosted data is the size of the original data. \n",
    "    Xi, Yi = ml.bootstrapData(Xtr, Ytr, Xtr.shape[0])\n",
    "\n",
    "    # Train the model on that draw\n",
    "    tree = ml.dtree.treeClassify(Xi, Yi, minParent=2**6,maxDepth=100, nFeatures=6)\n",
    "\n",
    "    bags.append(tree)"
   ]
  },
  {
   "cell_type": "code",
   "execution_count": 11,
   "metadata": {},
   "outputs": [
    {
     "name": "stdout",
     "output_type": "stream",
     "text": [
      "      Train AUC: 0.8988\n",
      " Validation AUC: 0.7360\n"
     ]
    }
   ],
   "source": [
    "bt = BaggedTree(bags)\n",
    "bt.classes = np.unique(Y)\n",
    "\n",
    "print(\"{0:>15}: {1:.4f}\".format('Train AUC', bt.auc(Xtr, Ytr)))\n",
    "print(\"{0:>15}: {1:.4f}\".format('Validation AUC', bt.auc(Xva, Yva)))"
   ]
  },
  {
   "cell_type": "code",
   "execution_count": null,
   "metadata": {},
   "outputs": [],
   "source": []
  },
  {
   "cell_type": "code",
   "execution_count": null,
   "metadata": {},
   "outputs": [],
   "source": [
    "\n"
   ]
  },
  {
   "cell_type": "code",
   "execution_count": 12,
   "metadata": {},
   "outputs": [],
   "source": [
    "\n",
    "Xte = np.genfromtxt('C:\\data\\X_test.txt', delimiter=None)\n",
    "Yte = np.vstack((np.arange(Xte.shape[0]), bt.predictSoft(Xte)[:,1])).T\n",
    "# Output a file with two columns, a row ID and a confidence in class 1:\n",
    "np.savetxt('C:\\data\\Y_submit.txt',Yte,'%d, %.2f',header='ID,Prob1',comments='',delimiter=',')"
   ]
  },
  {
   "cell_type": "code",
   "execution_count": null,
   "metadata": {},
   "outputs": [],
   "source": []
  }
 ],
 "metadata": {
  "kernelspec": {
   "display_name": "Python 2",
   "language": "python",
   "name": "python2"
  },
  "language_info": {
   "codemirror_mode": {
    "name": "ipython",
    "version": 2
   },
   "file_extension": ".py",
   "mimetype": "text/x-python",
   "name": "python",
   "nbconvert_exporter": "python",
   "pygments_lexer": "ipython2",
   "version": "2.7.15"
  }
 },
 "nbformat": 4,
 "nbformat_minor": 2
}
